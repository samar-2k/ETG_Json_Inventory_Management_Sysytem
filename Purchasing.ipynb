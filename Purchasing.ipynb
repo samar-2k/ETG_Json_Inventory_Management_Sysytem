{
  "nbformat": 4,
  "nbformat_minor": 0,
  "metadata": {
    "colab": {
      "name": "Purchasing.ipynb",
      "provenance": [],
      "collapsed_sections": []
    },
    "kernelspec": {
      "name": "python3",
      "display_name": "Python 3"
    },
    "language_info": {
      "name": "python"
    }
  },
  "cells": [
    {
      "cell_type": "code",
      "metadata": {
        "id": "-SuuFyVSUeob"
      },
      "source": [
        "record={\"1001\":{\"name\":\"Item1\",\"pr\":1,\"qn\":100},\n",
        "        \"1002\":{\"name\":\"Item2\",\"pr\":10,\"qn\":100},\n",
        "        \"1003\":{\"name\":\"Item3\",\"pr\":100,\"qn\":100},\n",
        "        \"1004\":{\"name\":\"Item4\",\"pr\":1000,\"qn\":100},\n",
        "        \"1005\":{\"name\":\"Item5\",\"pr\":1,\"qn\":100},\n",
        "        \"1006\":{\"name\":\"Item6\",\"pr\":10,\"qn\":100},\n",
        "        \"1007\":{\"name\":\"Item7\",\"pr\":100,\"qn\":100},\n",
        "        \"1008\":{\"name\":\"Item8\",\"pr\":1000,\"qn\":100},\n",
        "        \"1009\":{\"name\":\"Item9\",\"pr\":10,\"qn\":100},\n",
        "        \"1010\":{\"name\":\"Item10\",\"pr\":100,\"qn\":100},\n",
        "        \"1011\":{\"name\":\"Item11\",\"pr\":1000,\"qn\":100},\n",
        "        \"1012\":{\"name\":\"Item12\",\"pr\":1,\"qn\":100},\n",
        "        \"1013\":{\"name\":\"Item13\",\"pr\":10,\"qn\":100},\n",
        "        \"1014\":{\"name\":\"Item14\",\"pr\":100,\"qn\":100},\n",
        "        \"1015\":{\"name\":\"Item15\",\"pr\":1000,\"qn\":100},\n",
        "        \"1016\":{\"name\":\"Item16\",\"pr\":1,\"qn\":100},\n",
        "        \"1017\":{\"name\":\"Item17\",\"pr\":10,\"qn\":100},\n",
        "        \"1018\":{\"name\":\"Item18\",\"pr\":1000,\"qn\":100},\n",
        "        \"1019\":{\"name\":\"Item19\",\"pr\":1,\"qn\":100},\n",
        "        \"1020\":{\"name\":\"Item20\",\"pr\":10,\"qn\":100},\n",
        "        \"1021\":{\"name\":\"Item21\",\"pr\":100,\"qn\":100},\n",
        "        \"1022\":{\"name\":\"Item22\",\"pr\":1000,\"qn\":100},\n",
        "        \"1023\":{\"name\":\"Item23\",\"pr\":1,\"qn\":100},\n",
        "        \"1024\":{\"name\":\"Item24\",\"pr\":1,\"qn\":100},\n",
        "        \"1025\":{\"name\":\"Item25\",\"pr\":1,\"qn\":100},\n",
        "        \"1026\":{\"name\":\"Item26\",\"pr\":1,\"qn\":100},\n",
        "        \"1027\":{\"name\":\"Item27\",\"pr\":1,\"qn\":100},\n",
        "        \"1028\":{\"name\":\"Item28\",\"pr\":1,\"qn\":100},\n",
        "        \"1029\":{\"name\":\"Item29\",\"pr\":1,\"qn\":100},\n",
        "        \"1030\":{\"name\":\"Item30\",\"pr\":1,\"qn\":100},}"
      ],
      "execution_count": 26,
      "outputs": []
    },
    {
      "cell_type": "markdown",
      "metadata": {
        "id": "hmFO9UrM5iRP"
      },
      "source": [
        "# Read data from JSON"
      ]
    },
    {
      "cell_type": "code",
      "metadata": {
        "id": "0jnr5kXL5k9k"
      },
      "source": [
        "import json\n",
        "fd=open(\"records.json\",'r')\n",
        "r= fd.read()\n",
        "fd.close()\n",
        "record= json.loads(r)"
      ],
      "execution_count": 31,
      "outputs": []
    },
    {
      "cell_type": "code",
      "metadata": {
        "colab": {
          "base_uri": "https://localhost:8080/"
        },
        "id": "spHZlM9NVQPy",
        "outputId": "597db124-3ef6-4e8d-ba34-470ee9cf8cbd"
      },
      "source": [
        "record"
      ],
      "execution_count": 30,
      "outputs": [
        {
          "output_type": "execute_result",
          "data": {
            "text/plain": [
              "{'1001': {'name': 'Item1', 'pr': 1, 'qn': 20},\n",
              " '1002': {'name': 'Item2', 'pr': 10, 'qn': 200},\n",
              " '1003': {'name': 'Item3', 'pr': 100, 'qn': 100},\n",
              " '1004': {'name': 'Item4', 'pr': 1000, 'qn': 100},\n",
              " '1005': {'name': 'Item5', 'pr': 1, 'qn': 100},\n",
              " '1006': {'name': 'Item6', 'pr': 10, 'qn': 100},\n",
              " '1007': {'name': 'Item7', 'pr': 100, 'qn': 100},\n",
              " '1008': {'name': 'Item8', 'pr': 1000, 'qn': 100},\n",
              " '1009': {'name': 'Item9', 'pr': 10, 'qn': 100},\n",
              " '1010': {'name': 'Item10', 'pr': 100, 'qn': 100},\n",
              " '1011': {'name': 'Item11', 'pr': 1000, 'qn': 100},\n",
              " '1012': {'name': 'Item12', 'pr': 1, 'qn': 100},\n",
              " '1013': {'name': 'Item13', 'pr': 10, 'qn': 100},\n",
              " '1014': {'name': 'Item14', 'pr': 100, 'qn': 100},\n",
              " '1015': {'name': 'Item15', 'pr': 1000, 'qn': 100},\n",
              " '1016': {'name': 'Item16', 'pr': 1, 'qn': 100},\n",
              " '1017': {'name': 'Item17', 'pr': 10, 'qn': 100},\n",
              " '1018': {'name': 'Item18', 'pr': 1000, 'qn': 100},\n",
              " '1019': {'name': 'Item19', 'pr': 1, 'qn': 100},\n",
              " '1020': {'name': 'Item20', 'pr': 10, 'qn': 100},\n",
              " '1021': {'name': 'Item21', 'pr': 100, 'qn': 100},\n",
              " '1022': {'name': 'Item22', 'pr': 1000, 'qn': 100},\n",
              " '1023': {'name': 'Item23', 'pr': 1, 'qn': 100},\n",
              " '1024': {'name': 'Item24', 'pr': 1, 'qn': 100},\n",
              " '1025': {'name': 'Item25', 'pr': 1, 'qn': 100},\n",
              " '1026': {'name': 'Item26', 'pr': 1, 'qn': 100},\n",
              " '1027': {'name': 'Item27', 'pr': 1, 'qn': 100},\n",
              " '1028': {'name': 'Item28', 'pr': 1, 'qn': 100},\n",
              " '1029': {'name': 'Item29', 'pr': 1, 'qn': 100},\n",
              " '1030': {'name': 'Item30', 'pr': 1, 'qn': 100},\n",
              " '1031': {'name': 'Item31', 'pr': 1000, 'qn': 1}}"
            ]
          },
          "metadata": {},
          "execution_count": 30
        }
      ]
    },
    {
      "cell_type": "code",
      "metadata": {
        "colab": {
          "base_uri": "https://localhost:8080/",
          "height": 171
        },
        "id": "tM-5ZzQAUKrf",
        "outputId": "5d749883-3716-45fd-c71d-8888efbbbdc6"
      },
      "source": [
        "r"
      ],
      "execution_count": 28,
      "outputs": [
        {
          "output_type": "execute_result",
          "data": {
            "application/vnd.google.colaboratory.intrinsic+json": {
              "type": "string"
            },
            "text/plain": [
              "'{\"1001\": {\"name\": \"Item1\", \"pr\": 1, \"qn\": 20}, \"1002\": {\"name\": \"Item2\", \"pr\": 10, \"qn\": 200}, \"1003\": {\"name\": \"Item3\", \"pr\": 100, \"qn\": 100}, \"1004\": {\"name\": \"Item4\", \"pr\": 1000, \"qn\": 100}, \"1005\": {\"name\": \"Item5\", \"pr\": 1, \"qn\": 100}, \"1006\": {\"name\": \"Item6\", \"pr\": 10, \"qn\": 100}, \"1007\": {\"name\": \"Item7\", \"pr\": 100, \"qn\": 100}, \"1008\": {\"name\": \"Item8\", \"pr\": 1000, \"qn\": 100}, \"1009\": {\"name\": \"Item9\", \"pr\": 10, \"qn\": 100}, \"1010\": {\"name\": \"Item10\", \"pr\": 100, \"qn\": 100}, \"1011\": {\"name\": \"Item11\", \"pr\": 1000, \"qn\": 100}, \"1012\": {\"name\": \"Item12\", \"pr\": 1, \"qn\": 100}, \"1013\": {\"name\": \"Item13\", \"pr\": 10, \"qn\": 100}, \"1014\": {\"name\": \"Item14\", \"pr\": 100, \"qn\": 100}, \"1015\": {\"name\": \"Item15\", \"pr\": 1000, \"qn\": 100}, \"1016\": {\"name\": \"Item16\", \"pr\": 1, \"qn\": 100}, \"1017\": {\"name\": \"Item17\", \"pr\": 10, \"qn\": 100}, \"1018\": {\"name\": \"Item18\", \"pr\": 1000, \"qn\": 100}, \"1019\": {\"name\": \"Item19\", \"pr\": 1, \"qn\": 100}, \"1020\": {\"name\": \"Item20\", \"pr\": 10, \"qn\": 100}, \"1021\": {\"name\": \"Item21\", \"pr\": 100, \"qn\": 100}, \"1022\": {\"name\": \"Item22\", \"pr\": 1000, \"qn\": 100}, \"1023\": {\"name\": \"Item23\", \"pr\": 1, \"qn\": 100}, \"1024\": {\"name\": \"Item24\", \"pr\": 1, \"qn\": 100}, \"1025\": {\"name\": \"Item25\", \"pr\": 1, \"qn\": 100}, \"1026\": {\"name\": \"Item26\", \"pr\": 1, \"qn\": 100}, \"1027\": {\"name\": \"Item27\", \"pr\": 1, \"qn\": 100}, \"1028\": {\"name\": \"Item28\", \"pr\": 1, \"qn\": 100}, \"1029\": {\"name\": \"Item29\", \"pr\": 1, \"qn\": 100}, \"1030\": {\"name\": \"Item30\", \"pr\": 1, \"qn\": 100}, \"1031\": {\"name\": \"Item31\", \"pr\": 1000, \"qn\": 1}}'"
            ]
          },
          "metadata": {},
          "execution_count": 28
        }
      ]
    },
    {
      "cell_type": "code",
      "metadata": {
        "id": "GOqWnCwNUxtE"
      },
      "source": [
        ""
      ],
      "execution_count": null,
      "outputs": []
    },
    {
      "cell_type": "markdown",
      "metadata": {
        "id": "0nzgYeYD9q0C"
      },
      "source": [
        "# Purchase"
      ]
    },
    {
      "cell_type": "code",
      "metadata": {
        "id": "C1gByOT_9uY9",
        "colab": {
          "base_uri": "https://localhost:8080/"
        },
        "outputId": "c59eaa16-4fcc-4644-bb3e-a4a502f477dd"
      },
      "source": [
        "ui_product =str(input(\"Enter product id:\"))\n",
        "ui_quant =int(input(\"Enter quantity:\"))\n",
        "print(\"Product:\",record[ui_product]['name'])\n",
        "print(\"Price:\",record[ui_product]['pr'])\n",
        "print(\"Billing amount\",record[ui_product]['pr']*ui_quant)\n",
        "\n",
        "record [ui_product]['qn']=record [ui_product]['qn']-ui_quant"
      ],
      "execution_count": 80,
      "outputs": [
        {
          "output_type": "stream",
          "name": "stdout",
          "text": [
            "Enter product id:1012\n",
            "Enter quantity:5\n",
            "Product: Item12\n",
            "Price: 1\n",
            "Billing amount 5\n"
          ]
        }
      ]
    },
    {
      "cell_type": "code",
      "metadata": {
        "colab": {
          "base_uri": "https://localhost:8080/"
        },
        "id": "oYTr93TvWIfj",
        "outputId": "212b866d-e104-4f21-8644-7bb6f4e7e1d0"
      },
      "source": [
        "\n",
        "record"
      ],
      "execution_count": 44,
      "outputs": [
        {
          "output_type": "execute_result",
          "data": {
            "text/plain": [
              "{'1001': {'name': 'Item1', 'pr': 1, 'qn': 19},\n",
              " '1002': {'name': 'Item2', 'pr': 10, 'qn': 200},\n",
              " '1003': {'name': 'Item3', 'pr': 100, 'qn': 100},\n",
              " '1004': {'name': 'Item4', 'pr': 1000, 'qn': 100},\n",
              " '1005': {'name': 'Item5', 'pr': 1, 'qn': 100},\n",
              " '1006': {'name': 'Item6', 'pr': 10, 'qn': 100},\n",
              " '1007': {'name': 'Item7', 'pr': 100, 'qn': 100},\n",
              " '1008': {'name': 'Item8', 'pr': 1000, 'qn': 100},\n",
              " '1009': {'name': 'Item9', 'pr': 10, 'qn': 100},\n",
              " '1010': {'name': 'Item10', 'pr': 100, 'qn': 100},\n",
              " '1011': {'name': 'Item11', 'pr': 1000, 'qn': 100},\n",
              " '1012': {'name': 'Item12', 'pr': 1, 'qn': 100},\n",
              " '1013': {'name': 'Item13', 'pr': 10, 'qn': 100},\n",
              " '1014': {'name': 'Item14', 'pr': 100, 'qn': 100},\n",
              " '1015': {'name': 'Item15', 'pr': 1000, 'qn': 100},\n",
              " '1016': {'name': 'Item16', 'pr': 1, 'qn': 100},\n",
              " '1017': {'name': 'Item17', 'pr': 10, 'qn': 100},\n",
              " '1018': {'name': 'Item18', 'pr': 1000, 'qn': 100},\n",
              " '1019': {'name': 'Item19', 'pr': 1, 'qn': 100},\n",
              " '1020': {'name': 'Item20', 'pr': 10, 'qn': 100},\n",
              " '1021': {'name': 'Item21', 'pr': 100, 'qn': 100},\n",
              " '1022': {'name': 'Item22', 'pr': 1000, 'qn': 100},\n",
              " '1023': {'name': 'Item23', 'pr': 1, 'qn': 100},\n",
              " '1024': {'name': 'Item24', 'pr': 1, 'qn': 100},\n",
              " '1025': {'name': 'Item25', 'pr': 1, 'qn': 100},\n",
              " '1026': {'name': 'Item26', 'pr': 1, 'qn': 100},\n",
              " '1027': {'name': 'Item27', 'pr': 1, 'qn': 100},\n",
              " '1028': {'name': 'Item28', 'pr': 1, 'qn': 100},\n",
              " '1029': {'name': 'Item29', 'pr': 1, 'qn': 100},\n",
              " '1030': {'name': 'Item30', 'pr': 1, 'qn': 99},\n",
              " '1031': {'name': 'Item31', 'pr': 1000, 'qn': 1}}"
            ]
          },
          "metadata": {},
          "execution_count": 44
        }
      ]
    },
    {
      "cell_type": "markdown",
      "metadata": {
        "id": "cyawwU4WWMnT"
      },
      "source": [
        "# Update Inventory after purchase"
      ]
    },
    {
      "cell_type": "code",
      "metadata": {
        "id": "4D6rdQwJWPpc"
      },
      "source": [
        "js=json.dumps(record)\n",
        "fd=open(\"records.json\",'w')\n",
        "fd.write(js)\n",
        "fd.close()"
      ],
      "execution_count": 35,
      "outputs": []
    },
    {
      "cell_type": "markdown",
      "metadata": {
        "id": "ntc-TD0r_aGJ"
      },
      "source": [
        "# Sales Json"
      ]
    },
    {
      "cell_type": "code",
      "metadata": {
        "id": "MT6vwbJr_df_",
        "colab": {
          "base_uri": "https://localhost:8080/"
        },
        "outputId": "a8681051-e100-44d9-a922-db9cdb63389a"
      },
      "source": [
        "{'prod':ui_product,'qn':ui_quant, 'amount':record[ui_product]['pr']*ui_quant}"
      ],
      "execution_count": 45,
      "outputs": [
        {
          "output_type": "execute_result",
          "data": {
            "text/plain": [
              "{'amount': 1, 'prod': '1001', 'qn': 1}"
            ]
          },
          "metadata": {},
          "execution_count": 45
        }
      ]
    },
    {
      "cell_type": "code",
      "metadata": {
        "id": "uIofRWg1YJ2O"
      },
      "source": [
        "sales={1:{'prod':ui_product,'qn':ui_quant, 'amount':record[ui_product]['pr']*ui_quant},\n",
        "       2:{'prod':ui_product,'qn':ui_quant, 'amount':record[ui_product]['pr']*ui_quant},\n",
        "       3:{'prod':ui_product,'qn':ui_quant, 'amount':record[ui_product]['pr']*ui_quant},\n",
        "       4:{'prod':ui_product,'qn':ui_quant, 'amount':record[ui_product]['pr']*ui_quant},\n",
        "       5:{'prod':ui_product,'qn':ui_quant, 'amount':record[ui_product]['pr']*ui_quant}}\n",
        "       "
      ],
      "execution_count": 62,
      "outputs": []
    },
    {
      "cell_type": "code",
      "metadata": {
        "colab": {
          "base_uri": "https://localhost:8080/"
        },
        "id": "3OK7P7WeYjD6",
        "outputId": "e4eec934-60f5-4f3b-a9fb-2508bf26a6c3"
      },
      "source": [
        "sales"
      ],
      "execution_count": 63,
      "outputs": [
        {
          "output_type": "execute_result",
          "data": {
            "text/plain": [
              "{1: {'amount': 1, 'prod': '1001', 'qn': 1},\n",
              " 2: {'amount': 1, 'prod': '1001', 'qn': 1},\n",
              " 3: {'amount': 1, 'prod': '1001', 'qn': 1},\n",
              " 4: {'amount': 1, 'prod': '1001', 'qn': 1},\n",
              " 5: {'amount': 1, 'prod': '1001', 'qn': 1}}"
            ]
          },
          "metadata": {},
          "execution_count": 63
        }
      ]
    },
    {
      "cell_type": "code",
      "metadata": {
        "colab": {
          "base_uri": "https://localhost:8080/"
        },
        "id": "CHqjLAv3Zl86",
        "outputId": "fb061f36-5aaf-4fe0-bf61-2384aaeeaeb7"
      },
      "source": [
        "{len(sales)+1:{'prod':ui_product,'qn':ui_quant, 'amount':record[ui_product]['pr']*ui_quant}}\n"
      ],
      "execution_count": 81,
      "outputs": [
        {
          "output_type": "execute_result",
          "data": {
            "text/plain": [
              "{10: {'amount': 5, 'prod': '1012', 'qn': 5}}"
            ]
          },
          "metadata": {},
          "execution_count": 81
        }
      ]
    },
    {
      "cell_type": "code",
      "metadata": {
        "id": "el4nTlhaaYtO"
      },
      "source": [
        "sales[(len(sales)+1)]={'prod':ui_product,'qn':ui_quant, 'amount':record[ui_product]['pr']*ui_quant}\n"
      ],
      "execution_count": 82,
      "outputs": []
    },
    {
      "cell_type": "code",
      "metadata": {
        "colab": {
          "base_uri": "https://localhost:8080/"
        },
        "id": "1-ubKcydartr",
        "outputId": "ed36048f-cc1b-41d4-a85d-512c3092671f"
      },
      "source": [
        "sales"
      ],
      "execution_count": 83,
      "outputs": [
        {
          "output_type": "execute_result",
          "data": {
            "text/plain": [
              "{1: {'amount': 1, 'prod': '1001', 'qn': 1},\n",
              " 2: {'amount': 1, 'prod': '1001', 'qn': 1},\n",
              " 3: {'amount': 1, 'prod': '1001', 'qn': 1},\n",
              " 4: {'amount': 1, 'prod': '1001', 'qn': 1},\n",
              " 5: {'amount': 1, 'prod': '1001', 'qn': 1},\n",
              " 6: {'amount': 10, 'prod': '1002', 'qn': 1},\n",
              " 7: {'amount': 200, 'prod': '1003', 'qn': 2},\n",
              " 8: {'amount': 1000, 'prod': '1004', 'qn': 1},\n",
              " 9: {'amount': 20, 'prod': '1009', 'qn': 2},\n",
              " 10: {'amount': 5, 'prod': '1012', 'qn': 5}}"
            ]
          },
          "metadata": {},
          "execution_count": 83
        }
      ]
    },
    {
      "cell_type": "code",
      "metadata": {
        "id": "6zo07P4-YkPB"
      },
      "source": [
        "sale=json.dumps(sales)"
      ],
      "execution_count": 87,
      "outputs": []
    },
    {
      "cell_type": "code",
      "metadata": {
        "id": "CtVusXcbYojU"
      },
      "source": [
        "fd=open(\"sale.json\",'w')\n",
        "fd.write(sale)\n",
        "fd.close()"
      ],
      "execution_count": 88,
      "outputs": []
    },
    {
      "cell_type": "code",
      "metadata": {
        "id": "M9xXzIsdb5fX"
      },
      "source": [
        ""
      ],
      "execution_count": null,
      "outputs": []
    }
  ]
}
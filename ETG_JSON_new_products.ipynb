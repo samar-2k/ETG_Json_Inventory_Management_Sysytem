{
  "nbformat": 4,
  "nbformat_minor": 0,
  "metadata": {
    "colab": {
      "name": "ETG_JSON_new_products.ipynb",
      "provenance": []
    },
    "kernelspec": {
      "name": "python3",
      "display_name": "Python 3"
    },
    "language_info": {
      "name": "python"
    }
  },
  "cells": [
    {
      "cell_type": "code",
      "metadata": {
        "id": "Q3V61MR_Jkef"
      },
      "source": [
        "record={\"1001\":{\"name\":\"Item1\",\"pr\":1,\"qn\":100},\n",
        "        \"1002\":{\"name\":\"Item2\",\"pr\":10,\"qn\":100},\n",
        "        \"1003\":{\"name\":\"Item3\",\"pr\":100,\"qn\":100},\n",
        "        \"1004\":{\"name\":\"Item4\",\"pr\":1000,\"qn\":100},\n",
        "        \"1005\":{\"name\":\"Item5\",\"pr\":1,\"qn\":100},\n",
        "        \"1006\":{\"name\":\"Item6\",\"pr\":10,\"qn\":100},\n",
        "        \"1007\":{\"name\":\"Item7\",\"pr\":100,\"qn\":100},\n",
        "        \"1008\":{\"name\":\"Item8\",\"pr\":1000,\"qn\":100},\n",
        "        \"1009\":{\"name\":\"Item9\",\"pr\":10,\"qn\":100},\n",
        "        \"1010\":{\"name\":\"Item10\",\"pr\":100,\"qn\":100},\n",
        "        \"1011\":{\"name\":\"Item11\",\"pr\":1000,\"qn\":100},\n",
        "        \"1012\":{\"name\":\"Item12\",\"pr\":1,\"qn\":100},\n",
        "        \"1013\":{\"name\":\"Item13\",\"pr\":10,\"qn\":100},\n",
        "        \"1014\":{\"name\":\"Item14\",\"pr\":100,\"qn\":100},\n",
        "        \"1015\":{\"name\":\"Item15\",\"pr\":1000,\"qn\":100},\n",
        "        \"1016\":{\"name\":\"Item16\",\"pr\":1,\"qn\":100},\n",
        "        \"1017\":{\"name\":\"Item17\",\"pr\":10,\"qn\":100},\n",
        "        \"1018\":{\"name\":\"Item18\",\"pr\":1000,\"qn\":100},\n",
        "        \"1019\":{\"name\":\"Item19\",\"pr\":1,\"qn\":100},\n",
        "        \"1020\":{\"name\":\"Item20\",\"pr\":10,\"qn\":100},\n",
        "        \"1021\":{\"name\":\"Item21\",\"pr\":100,\"qn\":100},\n",
        "        \"1022\":{\"name\":\"Item22\",\"pr\":1000,\"qn\":100},\n",
        "        \"1023\":{\"name\":\"Item23\",\"pr\":1,\"qn\":100},\n",
        "        \"1024\":{\"name\":\"Item24\",\"pr\":1,\"qn\":100},\n",
        "        \"1025\":{\"name\":\"Item25\",\"pr\":1,\"qn\":100},\n",
        "        \"1026\":{\"name\":\"Item26\",\"pr\":1,\"qn\":100},\n",
        "        \"1027\":{\"name\":\"Item27\",\"pr\":1,\"qn\":100},\n",
        "        \"1028\":{\"name\":\"Item28\",\"pr\":1,\"qn\":100},\n",
        "        \"1029\":{\"name\":\"Item29\",\"pr\":1,\"qn\":100},\n",
        "        \"1030\":{\"name\":\"Item30\",\"pr\":1,\"qn\":100},}"
      ],
      "execution_count": 29,
      "outputs": []
    },
    {
      "cell_type": "code",
      "metadata": {
        "id": "V5PlCkD1VaBK"
      },
      "source": [
        "import json\n",
        "fd=open(\"records.json\",'r')\n",
        "r= fd.read()\n",
        "fd.close()\n",
        "record= json.loads(r)"
      ],
      "execution_count": 58,
      "outputs": []
    },
    {
      "cell_type": "code",
      "metadata": {
        "id": "H0n4xmI9I6U2"
      },
      "source": [
        "js=json.dumps(record)"
      ],
      "execution_count": 59,
      "outputs": []
    },
    {
      "cell_type": "code",
      "metadata": {
        "colab": {
          "base_uri": "https://localhost:8080/"
        },
        "id": "6frc8cMWK7yE",
        "outputId": "8d7600d0-c49c-48a3-8f66-56617e67267c"
      },
      "source": [
        "record"
      ],
      "execution_count": 18,
      "outputs": [
        {
          "output_type": "execute_result",
          "data": {
            "text/plain": [
              "{'1001': {'name': 'Item1', 'pr': 1, 'qn': 100},\n",
              " '1002': {'name': 'Item2', 'pr': 10, 'qn': 100},\n",
              " '1003': {'name': 'Item3', 'pr': 100, 'qn': 100},\n",
              " '1004': {'name': 'Item4', 'pr': 1000, 'qn': 100},\n",
              " '1005': {'name': 'Item5', 'pr': 1, 'qn': 100},\n",
              " '1006': {'name': 'Item6', 'pr': 10, 'qn': 100},\n",
              " '1007': {'name': 'Item7', 'pr': 100, 'qn': 100},\n",
              " '1008': {'name': 'Item8', 'pr': 1000, 'qn': 100},\n",
              " '1009': {'name': 'Item9', 'pr': 10, 'qn': 100},\n",
              " '1010': {'name': 'Item10', 'pr': 100, 'qn': 100},\n",
              " '1011': {'name': 'Item11', 'pr': 1000, 'qn': 100},\n",
              " '1012': {'name': 'Item12', 'pr': 1, 'qn': 100},\n",
              " '1013': {'name': 'Item13', 'pr': 10, 'qn': 100},\n",
              " '1014': {'name': 'Item14', 'pr': 100, 'qn': 100},\n",
              " '1015': {'name': 'Item15', 'pr': 1000, 'qn': 100},\n",
              " '1016': {'name': 'Item16', 'pr': 1, 'qn': 100},\n",
              " '1017': {'name': 'Item17', 'pr': 10, 'qn': 100},\n",
              " '1018': {'name': 'Item18', 'pr': 1000, 'qn': 100},\n",
              " '1019': {'name': 'Item19', 'pr': 1, 'qn': 100},\n",
              " '1020': {'name': 'Item20', 'pr': 10, 'qn': 100},\n",
              " '1021': {'name': 'Item21', 'pr': 100, 'qn': 100},\n",
              " '1022': {'name': 'Item22', 'pr': 1000, 'qn': 100},\n",
              " '1023': {'name': 'Item23', 'pr': 1, 'qn': 100},\n",
              " '1024': {'name': 'Item24', 'pr': 1, 'qn': 100},\n",
              " '1025': {'name': 'Item25', 'pr': 1, 'qn': 100},\n",
              " '1026': {'name': 'Item26', 'pr': 1, 'qn': 100},\n",
              " '1027': {'name': 'Item27', 'pr': 1, 'qn': 100},\n",
              " '1028': {'name': 'Item28', 'pr': 1, 'qn': 100},\n",
              " '1029': {'name': 'Item29', 'pr': 1, 'qn': 100},\n",
              " '1030': {'name': 'Item30', 'pr': 1, 'qn': 100}}"
            ]
          },
          "metadata": {},
          "execution_count": 18
        }
      ]
    },
    {
      "cell_type": "code",
      "metadata": {
        "colab": {
          "base_uri": "https://localhost:8080/"
        },
        "id": "l-urYHVAK899",
        "outputId": "aa8bcb4a-8ee1-461e-afc0-82fab3088c32"
      },
      "source": [
        "fd=open(\"records.json\",'r')\n",
        "r=fd.read()\n",
        "fd.close"
      ],
      "execution_count": 21,
      "outputs": [
        {
          "output_type": "execute_result",
          "data": {
            "text/plain": [
              "<function TextIOWrapper.close>"
            ]
          },
          "metadata": {},
          "execution_count": 21
        }
      ]
    },
    {
      "cell_type": "code",
      "metadata": {
        "id": "mXOjlCRgPYlh"
      },
      "source": [
        "prod_id=str(input(\"Enter product id:\"))\n",
        "name=str(input(\"Enter product name:\"))\n",
        "pr=int(input(\"Enter product price:\"))\n",
        "qn=int(input(\"Enter product quantity:\"))"
      ],
      "execution_count": null,
      "outputs": []
    },
    {
      "cell_type": "markdown",
      "metadata": {
        "id": "Pf3EVlxDQlsS"
      },
      "source": [
        "# Adding new Item"
      ]
    },
    {
      "cell_type": "code",
      "metadata": {
        "colab": {
          "base_uri": "https://localhost:8080/"
        },
        "id": "82nLCYikQi0S",
        "outputId": "2ce41d2c-550f-44ea-fa0b-1b4792fd41d7"
      },
      "source": [
        "user_id=str(input(\"Enter product id:\"))\n",
        "name=str(input(\"Enter product name:\"))\n",
        "pr=int(input(\"Enter product price:\"))\n",
        "user_qn=int(input(\"Enter product quantity:\"))\n",
        "record[user_id]={\"name\":name,\"pr\":pr,\"qn\":user_qn}\n",
        "\n",
        "\n"
      ],
      "execution_count": 51,
      "outputs": [
        {
          "name": "stdout",
          "output_type": "stream",
          "text": [
            "Enter product id:1002\n",
            "Enter product name:Item2\n",
            "Enter product price:10\n",
            "Enter product quantity:100\n"
          ]
        }
      ]
    },
    {
      "cell_type": "code",
      "metadata": {
        "id": "YMl4BOWuRoX8"
      },
      "source": [
        "record [user_id]['qn']=record [user_id]['qn']+user_qn"
      ],
      "execution_count": 52,
      "outputs": []
    },
    {
      "cell_type": "code",
      "metadata": {
        "colab": {
          "base_uri": "https://localhost:8080/"
        },
        "id": "EyxF7a8dSjms",
        "outputId": "23d8ca53-f512-491c-bd4b-4d8ff066871e"
      },
      "source": [
        "\n",
        "record"
      ],
      "execution_count": 53,
      "outputs": [
        {
          "output_type": "execute_result",
          "data": {
            "text/plain": [
              "{'1001': {'name': 'Item1', 'pr': 1, 'qn': 20},\n",
              " '1002': {'name': 'Item2', 'pr': 10, 'qn': 200},\n",
              " '1003': {'name': 'Item3', 'pr': 100, 'qn': 100},\n",
              " '1004': {'name': 'Item4', 'pr': 1000, 'qn': 100},\n",
              " '1005': {'name': 'Item5', 'pr': 1, 'qn': 100},\n",
              " '1006': {'name': 'Item6', 'pr': 10, 'qn': 100},\n",
              " '1007': {'name': 'Item7', 'pr': 100, 'qn': 100},\n",
              " '1008': {'name': 'Item8', 'pr': 1000, 'qn': 100},\n",
              " '1009': {'name': 'Item9', 'pr': 10, 'qn': 100},\n",
              " '1010': {'name': 'Item10', 'pr': 100, 'qn': 100},\n",
              " '1011': {'name': 'Item11', 'pr': 1000, 'qn': 100},\n",
              " '1012': {'name': 'Item12', 'pr': 1, 'qn': 100},\n",
              " '1013': {'name': 'Item13', 'pr': 10, 'qn': 100},\n",
              " '1014': {'name': 'Item14', 'pr': 100, 'qn': 100},\n",
              " '1015': {'name': 'Item15', 'pr': 1000, 'qn': 100},\n",
              " '1016': {'name': 'Item16', 'pr': 1, 'qn': 100},\n",
              " '1017': {'name': 'Item17', 'pr': 10, 'qn': 100},\n",
              " '1018': {'name': 'Item18', 'pr': 1000, 'qn': 100},\n",
              " '1019': {'name': 'Item19', 'pr': 1, 'qn': 100},\n",
              " '1020': {'name': 'Item20', 'pr': 10, 'qn': 100},\n",
              " '1021': {'name': 'Item21', 'pr': 100, 'qn': 100},\n",
              " '1022': {'name': 'Item22', 'pr': 1000, 'qn': 100},\n",
              " '1023': {'name': 'Item23', 'pr': 1, 'qn': 100},\n",
              " '1024': {'name': 'Item24', 'pr': 1, 'qn': 100},\n",
              " '1025': {'name': 'Item25', 'pr': 1, 'qn': 100},\n",
              " '1026': {'name': 'Item26', 'pr': 1, 'qn': 100},\n",
              " '1027': {'name': 'Item27', 'pr': 1, 'qn': 100},\n",
              " '1028': {'name': 'Item28', 'pr': 1, 'qn': 100},\n",
              " '1029': {'name': 'Item29', 'pr': 1, 'qn': 100},\n",
              " '1030': {'name': 'Item30', 'pr': 1, 'qn': 100},\n",
              " '1031': {'name': 'Item31', 'pr': 1000, 'qn': 1}}"
            ]
          },
          "metadata": {},
          "execution_count": 53
        }
      ]
    },
    {
      "cell_type": "code",
      "metadata": {
        "id": "uTJgzu28Qs2H"
      },
      "source": [
        "js=json.dumps(record)\n",
        "fd=open(\"records.json\",'w')\n",
        "fd.write(js)\n",
        "fd.close()"
      ],
      "execution_count": 54,
      "outputs": []
    },
    {
      "cell_type": "markdown",
      "metadata": {
        "id": "Cx_XY2MkRZNe"
      },
      "source": [
        "# Testing for updation"
      ]
    },
    {
      "cell_type": "code",
      "metadata": {
        "colab": {
          "base_uri": "https://localhost:8080/"
        },
        "id": "SJehaRihRHuV",
        "outputId": "2aa1a5a5-1087-4b26-d3b9-dbdfb4bed181"
      },
      "source": [
        "fd=open(\"records.json\",'r')\n",
        "r=fd.read()\n",
        "fd.close\n"
      ],
      "execution_count": 56,
      "outputs": [
        {
          "output_type": "execute_result",
          "data": {
            "text/plain": [
              "<function TextIOWrapper.close>"
            ]
          },
          "metadata": {},
          "execution_count": 56
        }
      ]
    },
    {
      "cell_type": "code",
      "metadata": {
        "colab": {
          "base_uri": "https://localhost:8080/",
          "height": 239
        },
        "id": "gPvtJGuFRL-r",
        "outputId": "57ef94dd-d249-4e68-ea36-815b14d26c67"
      },
      "source": [
        "r"
      ],
      "execution_count": 57,
      "outputs": [
        {
          "output_type": "execute_result",
          "data": {
            "application/vnd.google.colaboratory.intrinsic+json": {
              "type": "string"
            },
            "text/plain": [
              "'{\"1001\": {\"name\": \"Item1\", \"pr\": 1, \"qn\": 20}, \"1002\": {\"name\": \"Item2\", \"pr\": 10, \"qn\": 200}, \"1003\": {\"name\": \"Item3\", \"pr\": 100, \"qn\": 100}, \"1004\": {\"name\": \"Item4\", \"pr\": 1000, \"qn\": 100}, \"1005\": {\"name\": \"Item5\", \"pr\": 1, \"qn\": 100}, \"1006\": {\"name\": \"Item6\", \"pr\": 10, \"qn\": 100}, \"1007\": {\"name\": \"Item7\", \"pr\": 100, \"qn\": 100}, \"1008\": {\"name\": \"Item8\", \"pr\": 1000, \"qn\": 100}, \"1009\": {\"name\": \"Item9\", \"pr\": 10, \"qn\": 100}, \"1010\": {\"name\": \"Item10\", \"pr\": 100, \"qn\": 100}, \"1011\": {\"name\": \"Item11\", \"pr\": 1000, \"qn\": 100}, \"1012\": {\"name\": \"Item12\", \"pr\": 1, \"qn\": 100}, \"1013\": {\"name\": \"Item13\", \"pr\": 10, \"qn\": 100}, \"1014\": {\"name\": \"Item14\", \"pr\": 100, \"qn\": 100}, \"1015\": {\"name\": \"Item15\", \"pr\": 1000, \"qn\": 100}, \"1016\": {\"name\": \"Item16\", \"pr\": 1, \"qn\": 100}, \"1017\": {\"name\": \"Item17\", \"pr\": 10, \"qn\": 100}, \"1018\": {\"name\": \"Item18\", \"pr\": 1000, \"qn\": 100}, \"1019\": {\"name\": \"Item19\", \"pr\": 1, \"qn\": 100}, \"1020\": {\"name\": \"Item20\", \"pr\": 10, \"qn\": 100}, \"1021\": {\"name\": \"Item21\", \"pr\": 100, \"qn\": 100}, \"1022\": {\"name\": \"Item22\", \"pr\": 1000, \"qn\": 100}, \"1023\": {\"name\": \"Item23\", \"pr\": 1, \"qn\": 100}, \"1024\": {\"name\": \"Item24\", \"pr\": 1, \"qn\": 100}, \"1025\": {\"name\": \"Item25\", \"pr\": 1, \"qn\": 100}, \"1026\": {\"name\": \"Item26\", \"pr\": 1, \"qn\": 100}, \"1027\": {\"name\": \"Item27\", \"pr\": 1, \"qn\": 100}, \"1028\": {\"name\": \"Item28\", \"pr\": 1, \"qn\": 100}, \"1029\": {\"name\": \"Item29\", \"pr\": 1, \"qn\": 100}, \"1030\": {\"name\": \"Item30\", \"pr\": 1, \"qn\": 100}, \"1031\": {\"name\": \"Item31\", \"pr\": 1000, \"qn\": 1}}'"
            ]
          },
          "metadata": {},
          "execution_count": 57
        }
      ]
    },
    {
      "cell_type": "code",
      "metadata": {
        "colab": {
          "base_uri": "https://localhost:8080/"
        },
        "id": "GKtKPMX3RMjj",
        "outputId": "041197ce-4c3f-4d00-eadb-7886d37c9ca5"
      },
      "source": [
        "record"
      ],
      "execution_count": 55,
      "outputs": [
        {
          "output_type": "execute_result",
          "data": {
            "text/plain": [
              "{'1001': {'name': 'Item1', 'pr': 1, 'qn': 20},\n",
              " '1002': {'name': 'Item2', 'pr': 10, 'qn': 200},\n",
              " '1003': {'name': 'Item3', 'pr': 100, 'qn': 100},\n",
              " '1004': {'name': 'Item4', 'pr': 1000, 'qn': 100},\n",
              " '1005': {'name': 'Item5', 'pr': 1, 'qn': 100},\n",
              " '1006': {'name': 'Item6', 'pr': 10, 'qn': 100},\n",
              " '1007': {'name': 'Item7', 'pr': 100, 'qn': 100},\n",
              " '1008': {'name': 'Item8', 'pr': 1000, 'qn': 100},\n",
              " '1009': {'name': 'Item9', 'pr': 10, 'qn': 100},\n",
              " '1010': {'name': 'Item10', 'pr': 100, 'qn': 100},\n",
              " '1011': {'name': 'Item11', 'pr': 1000, 'qn': 100},\n",
              " '1012': {'name': 'Item12', 'pr': 1, 'qn': 100},\n",
              " '1013': {'name': 'Item13', 'pr': 10, 'qn': 100},\n",
              " '1014': {'name': 'Item14', 'pr': 100, 'qn': 100},\n",
              " '1015': {'name': 'Item15', 'pr': 1000, 'qn': 100},\n",
              " '1016': {'name': 'Item16', 'pr': 1, 'qn': 100},\n",
              " '1017': {'name': 'Item17', 'pr': 10, 'qn': 100},\n",
              " '1018': {'name': 'Item18', 'pr': 1000, 'qn': 100},\n",
              " '1019': {'name': 'Item19', 'pr': 1, 'qn': 100},\n",
              " '1020': {'name': 'Item20', 'pr': 10, 'qn': 100},\n",
              " '1021': {'name': 'Item21', 'pr': 100, 'qn': 100},\n",
              " '1022': {'name': 'Item22', 'pr': 1000, 'qn': 100},\n",
              " '1023': {'name': 'Item23', 'pr': 1, 'qn': 100},\n",
              " '1024': {'name': 'Item24', 'pr': 1, 'qn': 100},\n",
              " '1025': {'name': 'Item25', 'pr': 1, 'qn': 100},\n",
              " '1026': {'name': 'Item26', 'pr': 1, 'qn': 100},\n",
              " '1027': {'name': 'Item27', 'pr': 1, 'qn': 100},\n",
              " '1028': {'name': 'Item28', 'pr': 1, 'qn': 100},\n",
              " '1029': {'name': 'Item29', 'pr': 1, 'qn': 100},\n",
              " '1030': {'name': 'Item30', 'pr': 1, 'qn': 100},\n",
              " '1031': {'name': 'Item31', 'pr': 1000, 'qn': 1}}"
            ]
          },
          "metadata": {},
          "execution_count": 55
        }
      ]
    },
    {
      "cell_type": "code",
      "metadata": {
        "id": "uUVSVtEsRQN4"
      },
      "source": [
        ""
      ],
      "execution_count": null,
      "outputs": []
    }
  ]
}